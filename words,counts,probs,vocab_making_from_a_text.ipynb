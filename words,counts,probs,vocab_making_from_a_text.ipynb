{
  "nbformat": 4,
  "nbformat_minor": 0,
  "metadata": {
    "colab": {
      "name": "words,counts,probs,vocab making from a text.ipynb",
      "provenance": []
    },
    "kernelspec": {
      "name": "python3",
      "display_name": "Python 3"
    },
    "language_info": {
      "name": "python"
    }
  },
  "cells": [
    {
      "cell_type": "markdown",
      "metadata": {
        "id": "rYKMGVGDIupl"
      },
      "source": [
        "#words,counts,probs,vocab making from a text"
      ]
    },
    {
      "cell_type": "markdown",
      "metadata": {
        "id": "9ISPs9aDMJ2M"
      },
      "source": [
        "* to find how influencing a word in a text corpus\n",
        "* to find word probs using python probabilistic method"
      ]
    },
    {
      "cell_type": "code",
      "metadata": {
        "id": "UrLZ6yacI-ze"
      },
      "source": [
        "#given text"
      ],
      "execution_count": 1,
      "outputs": []
    },
    {
      "cell_type": "code",
      "metadata": {
        "id": "CrKyW4TkJGf4"
      },
      "source": [
        "text='there is nothing without AI. AI is the future. Deep learning algorithms are using different AI applicable products. DL is a part of ML.'"
      ],
      "execution_count": 2,
      "outputs": []
    },
    {
      "cell_type": "code",
      "metadata": {
        "id": "XdKhELtEJoyt"
      },
      "source": [
        "#making words"
      ],
      "execution_count": 3,
      "outputs": []
    },
    {
      "cell_type": "code",
      "metadata": {
        "colab": {
          "base_uri": "https://localhost:8080/"
        },
        "id": "HLEqUVQUJyLE",
        "outputId": "d0bff659-ac43-4cd7-d702-74d5ca87ea0d"
      },
      "source": [
        "text=text.lower()\n",
        "import re\n",
        "words=re.findall('\\w+',text)\n",
        "words"
      ],
      "execution_count": 7,
      "outputs": [
        {
          "output_type": "execute_result",
          "data": {
            "text/plain": [
              "['there',\n",
              " 'is',\n",
              " 'nothing',\n",
              " 'without',\n",
              " 'ai',\n",
              " 'ai',\n",
              " 'is',\n",
              " 'the',\n",
              " 'future',\n",
              " 'deep',\n",
              " 'learning',\n",
              " 'algorithms',\n",
              " 'are',\n",
              " 'using',\n",
              " 'different',\n",
              " 'ai',\n",
              " 'applicable',\n",
              " 'products',\n",
              " 'dl',\n",
              " 'is',\n",
              " 'a',\n",
              " 'part',\n",
              " 'of',\n",
              " 'ml']"
            ]
          },
          "metadata": {
            "tags": []
          },
          "execution_count": 7
        }
      ]
    },
    {
      "cell_type": "code",
      "metadata": {
        "id": "FfYKjtByJ_kG"
      },
      "source": [
        "#counts"
      ],
      "execution_count": 8,
      "outputs": []
    },
    {
      "cell_type": "code",
      "metadata": {
        "colab": {
          "base_uri": "https://localhost:8080/"
        },
        "id": "_Tzxe_H_Klas",
        "outputId": "ccd1ea88-d206-4fc1-875d-b97fe026e026"
      },
      "source": [
        "from collections import Counter\n",
        "word_counts=Counter(words)\n",
        "word_counts"
      ],
      "execution_count": 9,
      "outputs": [
        {
          "output_type": "execute_result",
          "data": {
            "text/plain": [
              "Counter({'a': 1,\n",
              "         'ai': 3,\n",
              "         'algorithms': 1,\n",
              "         'applicable': 1,\n",
              "         'are': 1,\n",
              "         'deep': 1,\n",
              "         'different': 1,\n",
              "         'dl': 1,\n",
              "         'future': 1,\n",
              "         'is': 3,\n",
              "         'learning': 1,\n",
              "         'ml': 1,\n",
              "         'nothing': 1,\n",
              "         'of': 1,\n",
              "         'part': 1,\n",
              "         'products': 1,\n",
              "         'the': 1,\n",
              "         'there': 1,\n",
              "         'using': 1,\n",
              "         'without': 1})"
            ]
          },
          "metadata": {
            "tags": []
          },
          "execution_count": 9
        }
      ]
    },
    {
      "cell_type": "code",
      "metadata": {
        "id": "ye2RsTxlKzxQ"
      },
      "source": [
        "#Probs"
      ],
      "execution_count": 10,
      "outputs": []
    },
    {
      "cell_type": "code",
      "metadata": {
        "colab": {
          "base_uri": "https://localhost:8080/"
        },
        "id": "HWzKLEBsLA94",
        "outputId": "82ee2143-b157-4789-ad44-fd9c6e1ac97a"
      },
      "source": [
        "probs={}\n",
        "for i in word_counts.keys():\n",
        "  probs[i]=word_counts[i]/sum(word_counts.values())\n",
        "\n",
        "probs"
      ],
      "execution_count": 11,
      "outputs": [
        {
          "output_type": "execute_result",
          "data": {
            "text/plain": [
              "{'a': 0.041666666666666664,\n",
              " 'ai': 0.125,\n",
              " 'algorithms': 0.041666666666666664,\n",
              " 'applicable': 0.041666666666666664,\n",
              " 'are': 0.041666666666666664,\n",
              " 'deep': 0.041666666666666664,\n",
              " 'different': 0.041666666666666664,\n",
              " 'dl': 0.041666666666666664,\n",
              " 'future': 0.041666666666666664,\n",
              " 'is': 0.125,\n",
              " 'learning': 0.041666666666666664,\n",
              " 'ml': 0.041666666666666664,\n",
              " 'nothing': 0.041666666666666664,\n",
              " 'of': 0.041666666666666664,\n",
              " 'part': 0.041666666666666664,\n",
              " 'products': 0.041666666666666664,\n",
              " 'the': 0.041666666666666664,\n",
              " 'there': 0.041666666666666664,\n",
              " 'using': 0.041666666666666664,\n",
              " 'without': 0.041666666666666664}"
            ]
          },
          "metadata": {
            "tags": []
          },
          "execution_count": 11
        }
      ]
    },
    {
      "cell_type": "markdown",
      "metadata": {
        "id": "87aRg-pXLsWv"
      },
      "source": [
        "# probs dict tells each word with corresponding prob score"
      ]
    },
    {
      "cell_type": "code",
      "metadata": {
        "id": "WB94yVqmMG5f"
      },
      "source": [
        ""
      ],
      "execution_count": null,
      "outputs": []
    }
  ]
}